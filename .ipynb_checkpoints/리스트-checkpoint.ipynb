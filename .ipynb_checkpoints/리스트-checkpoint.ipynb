{
 "cells": [
  {
   "cell_type": "markdown",
   "id": "eef741eb",
   "metadata": {},
   "source": [
    "파이썬은 리스트에서 서로 다른 종류의 데이터도 그냥 저장한다."
   ]
  },
  {
   "cell_type": "code",
   "execution_count": 1,
   "id": "1dd767da",
   "metadata": {
    "scrolled": true
   },
   "outputs": [
    {
     "name": "stdout",
     "output_type": "stream",
     "text": [
      "['a', 1, 1.2, True]\n"
     ]
    }
   ],
   "source": [
    "l = ['a', 1, 1.2, True]\n",
    "print(l)"
   ]
  },
  {
   "cell_type": "markdown",
   "id": "925c96ed",
   "metadata": {},
   "source": [
    "길이, 요소 출력, 요소 수정"
   ]
  },
  {
   "cell_type": "code",
   "execution_count": 2,
   "id": "1751e589",
   "metadata": {},
   "outputs": [
    {
     "name": "stdout",
     "output_type": "stream",
     "text": [
      "4\n"
     ]
    }
   ],
   "source": [
    "print(len(l))"
   ]
  },
  {
   "cell_type": "code",
   "execution_count": 3,
   "id": "41648221",
   "metadata": {},
   "outputs": [
    {
     "name": "stdout",
     "output_type": "stream",
     "text": [
      "a\n"
     ]
    }
   ],
   "source": [
    "print(l[0])"
   ]
  },
  {
   "cell_type": "code",
   "execution_count": 4,
   "id": "70cc7256",
   "metadata": {},
   "outputs": [
    {
     "name": "stdout",
     "output_type": "stream",
     "text": [
      "['b', 1, 1.2, True]\n"
     ]
    }
   ],
   "source": [
    "l[0] = 'b'\n",
    "print(l)"
   ]
  },
  {
   "cell_type": "markdown",
   "id": "e2bcf121",
   "metadata": {},
   "source": [
    "요소 입력, 요소 삭제"
   ]
  },
  {
   "cell_type": "code",
   "execution_count": 5,
   "id": "a37a9711",
   "metadata": {},
   "outputs": [
    {
     "name": "stdout",
     "output_type": "stream",
     "text": [
      "['b', 1, 1.2, True, False]\n"
     ]
    }
   ],
   "source": [
    "l.append(False)\n",
    "print(l)"
   ]
  },
  {
   "cell_type": "code",
   "execution_count": 6,
   "id": "ec047353",
   "metadata": {},
   "outputs": [
    {
     "name": "stdout",
     "output_type": "stream",
     "text": [
      "['b', 'c', 1, 1.2, True, False]\n"
     ]
    }
   ],
   "source": [
    "l.insert(1, 'c')\n",
    "print(l)"
   ]
  },
  {
   "cell_type": "code",
   "execution_count": 7,
   "id": "15738c46",
   "metadata": {},
   "outputs": [
    {
     "name": "stdout",
     "output_type": "stream",
     "text": [
      "['b', 1, 1.2, True, False]\n"
     ]
    }
   ],
   "source": [
    "del l[1]\n",
    "print(l)"
   ]
  },
  {
   "cell_type": "code",
   "execution_count": 8,
   "id": "d3fec0ae",
   "metadata": {},
   "outputs": [
    {
     "name": "stdout",
     "output_type": "stream",
     "text": [
      "[1, 4, 2, 5]\n"
     ]
    }
   ],
   "source": [
    "x = [1, 4, 3, 2, 5]\n",
    "x.pop(2)\n",
    "print(x)"
   ]
  },
  {
   "cell_type": "code",
   "execution_count": 9,
   "id": "f8ca3110",
   "metadata": {},
   "outputs": [
    {
     "name": "stdout",
     "output_type": "stream",
     "text": [
      "[1, 4, 3, 2]\n",
      "5\n"
     ]
    }
   ],
   "source": [
    "x = [1, 4, 3, 2, 5]\n",
    "y = x.pop()\n",
    "print(x)\n",
    "print(y)"
   ]
  },
  {
   "cell_type": "code",
   "execution_count": 10,
   "id": "948827d1",
   "metadata": {},
   "outputs": [
    {
     "name": "stdout",
     "output_type": "stream",
     "text": [
      "['b', 1, 1.2, True]\n"
     ]
    }
   ],
   "source": [
    "l.remove(False)\n",
    "print(l)"
   ]
  },
  {
   "cell_type": "markdown",
   "id": "dbee18a0",
   "metadata": {},
   "source": [
    "리스트 정렬, 리스트 뒤집기"
   ]
  },
  {
   "cell_type": "code",
   "execution_count": 11,
   "id": "bd081b44",
   "metadata": {},
   "outputs": [
    {
     "name": "stdout",
     "output_type": "stream",
     "text": [
      "[1, 2, 3, 4, 5]\n"
     ]
    }
   ],
   "source": [
    "x = [3, 4, 5, 1, 2]\n",
    "x.sort()\n",
    "print(x)"
   ]
  },
  {
   "cell_type": "code",
   "execution_count": 12,
   "id": "b74038ec",
   "metadata": {},
   "outputs": [
    {
     "name": "stdout",
     "output_type": "stream",
     "text": [
      "[3, 4, 5, 1, 2]\n",
      "[1, 2, 3, 4, 5]\n"
     ]
    }
   ],
   "source": [
    "x = [3, 4, 5, 1, 2]\n",
    "y = sorted(x)\n",
    "print(x)\n",
    "print(y)"
   ]
  },
  {
   "cell_type": "code",
   "execution_count": 13,
   "id": "8a91addf",
   "metadata": {},
   "outputs": [
    {
     "name": "stdout",
     "output_type": "stream",
     "text": [
      "[5, 4, 3, 2, 1]\n"
     ]
    }
   ],
   "source": [
    "y.reverse()\n",
    "print(y)"
   ]
  },
  {
   "cell_type": "code",
   "execution_count": 14,
   "id": "b9bb74c5",
   "metadata": {},
   "outputs": [
    {
     "name": "stdout",
     "output_type": "stream",
     "text": [
      "<list_reverseiterator object at 0x0000025509349F00>\n"
     ]
    }
   ],
   "source": [
    "x = [1, 2, 3, 4, 5]\n",
    "y = reversed(x)\n",
    "print(y)"
   ]
  },
  {
   "cell_type": "code",
   "execution_count": 15,
   "id": "a7beb0c7",
   "metadata": {},
   "outputs": [
    {
     "name": "stdout",
     "output_type": "stream",
     "text": [
      "[<list_reverseiterator object at 0x000002550934A200>]\n",
      "[5, 4, 3, 2, 1]\n"
     ]
    }
   ],
   "source": [
    "x = [1, 2, 3, 4, 5]\n",
    "y1 = [reversed(x)]\n",
    "y2 = list(reversed(x))\n",
    "print(y1)\n",
    "print(y2)"
   ]
  },
  {
   "cell_type": "markdown",
   "id": "58864710",
   "metadata": {},
   "source": [
    "인덱스 찾기, 개수 세기"
   ]
  },
  {
   "cell_type": "code",
   "execution_count": 16,
   "id": "2bddec71",
   "metadata": {},
   "outputs": [
    {
     "name": "stdout",
     "output_type": "stream",
     "text": [
      "3\n",
      "None\n"
     ]
    }
   ],
   "source": [
    "x = [3, 4, 5, 1, 1, 2] \n",
    "idx1 = x.index(1)\n",
    "try :\n",
    "    idx2 = x.index(-1)\n",
    "    pass\n",
    "except:\n",
    "    idx2 = None\n",
    "    pass\n",
    "\n",
    "print(idx1)\n",
    "print(idx2)"
   ]
  },
  {
   "cell_type": "code",
   "execution_count": 17,
   "id": "eaaae81d",
   "metadata": {},
   "outputs": [
    {
     "name": "stdout",
     "output_type": "stream",
     "text": [
      "2\n"
     ]
    }
   ],
   "source": [
    "x = [1, 4, 1, 3, 2, 5]\n",
    "y = x.count(1)\n",
    "print(y)"
   ]
  },
  {
   "cell_type": "markdown",
   "id": "49abf3ec",
   "metadata": {},
   "source": [
    "얕은 복사, 깊은 복사"
   ]
  },
  {
   "cell_type": "code",
   "execution_count": 18,
   "id": "23fe61f7",
   "metadata": {},
   "outputs": [
    {
     "name": "stdout",
     "output_type": "stream",
     "text": [
      "[1, 2, 3, 4, 5, 6]\n",
      "[1, 2, 3, 1, 2, 3]\n",
      "[1, 2, 3, 1, 2, 3]\n"
     ]
    }
   ],
   "source": [
    "x = [1, 2, 3]\n",
    "y = [4, 5, 6]\n",
    "z1 = x + y\n",
    "z2 = x * 2\n",
    "z3 = 2 * x\n",
    "print(z1)\n",
    "print(z2)\n",
    "print(z3)"
   ]
  },
  {
   "cell_type": "code",
   "execution_count": 19,
   "id": "f430eb0d",
   "metadata": {
    "scrolled": true
   },
   "outputs": [
    {
     "name": "stdout",
     "output_type": "stream",
     "text": [
      "2564250352192\n",
      "2564250352192\n"
     ]
    }
   ],
   "source": [
    "a = [1, 4, 3, 2, 5]\n",
    "b = a\n",
    "\n",
    "print(id(a))\n",
    "print(id(b))"
   ]
  },
  {
   "cell_type": "code",
   "execution_count": 20,
   "id": "73547076",
   "metadata": {},
   "outputs": [
    {
     "name": "stdout",
     "output_type": "stream",
     "text": [
      "2564250367040\n",
      "2564250387904\n"
     ]
    }
   ],
   "source": [
    "a = [1, 4, 3, 2, 5]\n",
    "b = a[:]\n",
    "\n",
    "print(id(a))\n",
    "print(id(b))"
   ]
  },
  {
   "cell_type": "markdown",
   "id": "badd44a3",
   "metadata": {},
   "source": [
    "짧은 리스트 선언"
   ]
  },
  {
   "cell_type": "code",
   "execution_count": 21,
   "id": "d2534d60",
   "metadata": {},
   "outputs": [
    {
     "name": "stdout",
     "output_type": "stream",
     "text": [
      "[0, 2, 4, 6, 8, 10, 12, 14, 16, 18]\n"
     ]
    }
   ],
   "source": [
    "x = []\n",
    "for i in range(10):\n",
    "    x.append(2*i)\n",
    "    pass\n",
    "print(x)"
   ]
  },
  {
   "cell_type": "code",
   "execution_count": 22,
   "id": "53a18e3f",
   "metadata": {},
   "outputs": [
    {
     "name": "stdout",
     "output_type": "stream",
     "text": [
      "[0, 2, 4, 6, 8, 10, 12, 14, 16, 18]\n"
     ]
    }
   ],
   "source": [
    "x = [2*i for i in range(10)]\n",
    "print(x)"
   ]
  },
  {
   "cell_type": "code",
   "execution_count": 23,
   "id": "e58acdda",
   "metadata": {},
   "outputs": [
    {
     "name": "stdout",
     "output_type": "stream",
     "text": [
      "[2, 4, 8, 10, 14, 16]\n"
     ]
    }
   ],
   "source": [
    "x = [2*i for i in range(10) if i%3 != 0]\n",
    "print(x)"
   ]
  },
  {
   "cell_type": "code",
   "execution_count": 24,
   "id": "b60a78b7",
   "metadata": {},
   "outputs": [
    {
     "name": "stdout",
     "output_type": "stream",
     "text": [
      "[[0, 1, 2, 3], [4, 5, 6, 7], [8, 9, 10, 11]]\n"
     ]
    }
   ],
   "source": [
    "row = 4\n",
    "col = 3\n",
    "x = [[4*i+ j for j in range(row)] for i in range(col)]\n",
    "print(x)"
   ]
  },
  {
   "cell_type": "markdown",
   "id": "6cad78e5",
   "metadata": {},
   "source": [
    "id 함수\n",
    "객체를 인자로 입력받아 그 객체가 기리키는 값의 주소를 반환\n",
    "a = 1\n",
    "b = 1\n",
    "이면 두 객체가 기리키는 값이 같기 떄문에 id 함수값이 동일"
   ]
  },
  {
   "cell_type": "code",
   "execution_count": 25,
   "id": "dff98413",
   "metadata": {},
   "outputs": [
    {
     "name": "stdout",
     "output_type": "stream",
     "text": [
      "140703449518856\n",
      "140703449518888\n",
      "140703449518920\n",
      "140703449518952\n",
      "140703449518984\n",
      "140703449518856\n",
      "140703449518888\n"
     ]
    }
   ],
   "source": [
    "x = [0, 1, 2, 3, 4]\n",
    "for i in range(len(x)):\n",
    "    print(id(i))\n",
    "    pass\n",
    "\n",
    "y = 0\n",
    "print(id(y))\n",
    "\n",
    "y = 1\n",
    "print(id(y))"
   ]
  },
  {
   "cell_type": "code",
   "execution_count": 26,
   "id": "d5f58239",
   "metadata": {},
   "outputs": [],
   "source": [
    "class Node:\n",
    "    def __init__(self, data):\n",
    "        self.data = data\n",
    "        self.next = None\n",
    "    \n",
    "    \n",
    "class LinkedList:\n",
    "    ## 초기화\n",
    "    def __init__(self, data):\n",
    "        self.head = Node(data)\n",
    "        self.length = 1\n",
    "        return\n",
    "       \n",
    "\n",
    "    ## 출력\n",
    "    def print(self, index):\n",
    "        cur = self.head\n",
    "        if self.length-1 < index:\n",
    "            print('invalid index')\n",
    "            return\n",
    "        else:\n",
    "            for i in range(index):\n",
    "                cur = cur.next\n",
    "            print(cur.data)               \n",
    "        \n",
    "        \n",
    "    def print_all(self):\n",
    "        cur = self.head\n",
    "        while cur != None:\n",
    "            print(cur.data)\n",
    "            cur = cur.next\n",
    "        \n",
    "        \n",
    "    ## 요소 추가, 삭제\n",
    "    def append(self, data):\n",
    "        cur = self.head\n",
    "        while cur.next != None:\n",
    "            cur = cur.next\n",
    "        cur.next = Node(data)\n",
    "        self.length += 1\n",
    "            \n",
    "            \n",
    "    def pop(self):\n",
    "        cur = self.head\n",
    "        for i in range(self.length-2):\n",
    "            cur = cur.next\n",
    "        cur.next = None\n",
    "        self.length -= 1\n",
    "        \n",
    "        \n",
    "    def insert(self, index, data):\n",
    "        if self.length < index:\n",
    "            print('invalid index')\n",
    "            return\n",
    "        else:\n",
    "            new_node = Node(data)\n",
    "            cur = self.head\n",
    "            \n",
    "            if index == 0:\n",
    "                new_node.next = self.head\n",
    "                self.head = new_node\n",
    "                self.length += 1\n",
    "                return\n",
    "                \n",
    "            for i in range(index-1):                        \n",
    "                cur = cur.next\n",
    "            new_node.next = cur.next\n",
    "            cur.next = new_node    \n",
    "            self.length += 1\n",
    "            \n",
    "            \n",
    "    def delete(self, index):\n",
    "        if self.length-1 < index:\n",
    "            print('invalid index')\n",
    "        else:\n",
    "            cur = self.head\n",
    "            \n",
    "            if index == 0:\n",
    "                self.head = self.head.next\n",
    "                self.length -= 1\n",
    "                return\n",
    "            \n",
    "            for i in range(index-1):\n",
    "                cur = cur.next\n",
    "            cur.next = cur.next.next\n",
    "            self.length -= 1\n",
    "            \n",
    "            \n",
    "    def remove(self, data):\n",
    "        if self.head.data == data:\n",
    "            self.head = self.head.next\n",
    "            self.length -= 1\n",
    "            return\n",
    "        else:\n",
    "            cur = self.head\n",
    "            while cur.next != None:\n",
    "                if cur.next.data == data:\n",
    "                    cur.next = cur.next.next\n",
    "                    self.length -= 1\n",
    "                    return \n",
    "                else:\n",
    "                    cur = cur.next\n",
    "            print('no such data')      \n",
    "            \n",
    "    \n",
    "    def clear(self):\n",
    "        self.head.data = 0\n",
    "        self.head.next = None\n",
    "        self.length = 1\n",
    "    \n",
    "    \n",
    "    # 인덱스 <-> 데이터\n",
    "    def get_data(self, index):\n",
    "        if self.length-1 < index:\n",
    "            print('invalid index')\n",
    "            return\n",
    "        else:\n",
    "            cur = self.head\n",
    "            for i in range(index):\n",
    "                cur = cur.next\n",
    "            return cur.data\n",
    "    \n",
    "    \n",
    "    def get_index(self, data):\n",
    "        cur = self.head\n",
    "        index = 0\n",
    "        \n",
    "        while cur != None:\n",
    "            if cur.data == data:\n",
    "                return index\n",
    "            else:\n",
    "                index += 1\n",
    "                cur = cur.next             \n",
    "        print('no such data') \n",
    "\n",
    "        \n",
    "    #리스트 전체에 대한 연산\n",
    "    def range(self, count, interval = 1):\n",
    "        if count >= 0:\n",
    "            self.head.data = 0\n",
    "            cur = self.head\n",
    "            for i in range(count-1):\n",
    "                self.append(interval*(i+1))\n",
    "                \n",
    "                \n",
    "    def __add__(self, num):\n",
    "        new_linked_list = LinkedList(self.head.data + num)\n",
    "        cur = self.head.next\n",
    "        \n",
    "        while cur != None:\n",
    "            new_linked_list.append(cur.data + num)\n",
    "            cur = cur.next\n",
    "        return new_linked_list\n",
    "    \n",
    "    \n",
    "    def __sub__(self, num):\n",
    "        new_linked_list = LinkedList(self.head.data - num)\n",
    "        cur = self.head.next\n",
    "        \n",
    "        while cur != None:\n",
    "            new_linked_list.append(cur.data - num)\n",
    "            cur = cur.next\n",
    "        return new_linked_list\n",
    "    \n",
    "    \n",
    "    def __mul__(self, num):\n",
    "        new_linked_list = LinkedList(self.head.data * num)\n",
    "        cur = self.head.next\n",
    "        \n",
    "        while cur != None:\n",
    "            new_linked_list.append(cur.data * num)\n",
    "            cur = cur.next\n",
    "        return new_linked_list\n",
    "    \n",
    "    \n",
    "    def __neg__(self):\n",
    "        new_linked_list = LinkedList(-self.head.data)\n",
    "        cur = self.head.next\n",
    "        \n",
    "        while cur != None:\n",
    "            new_linked_list.append(-cur.data)\n",
    "            cur = cur.next\n",
    "        return new_linked_list\n",
    "    \n",
    "        \n",
    "    def list_sum(self, LL):\n",
    "        new_linked_list1 = self + 0\n",
    "        new_linked_list2 = LL + 0\n",
    "        \n",
    "        last = self.move(new_linked_list1.head, self.length-1)\n",
    "        last.next = new_linked_list2.head\n",
    "        \n",
    "        return new_linked_list1       \n",
    "    \n",
    "    \n",
    "    # 최대, 최소\n",
    "    def max(self):\n",
    "        cur = self.head\n",
    "        max_val = self.head.data\n",
    "        max_idx = 0\n",
    "        index = 0\n",
    "        \n",
    "        while cur != None:\n",
    "            if max_val < cur.data:\n",
    "                max_val = cur.data\n",
    "                max_idx = index\n",
    "            cur = cur.next\n",
    "            index += 1\n",
    "        \n",
    "        return max_idx, max_val\n",
    "    \n",
    "    \n",
    "    def min(self):\n",
    "        cur = self.head\n",
    "        min_val = self.head.data\n",
    "        min_idx = 0\n",
    "        index = 0\n",
    "        \n",
    "        while cur != None:\n",
    "            if min_val > cur.data:\n",
    "                min_val = cur.data\n",
    "                min_idx = index\n",
    "            cur = cur.next\n",
    "            index += 1\n",
    "        \n",
    "        return min_idx, min_val     \n",
    "            \n",
    "        \n",
    "    # 내림차 정렬, 순서 뒤집기, 개수 세기\n",
    "    def move(self, head, number):\n",
    "        cur = head\n",
    "        for i in range(number):\n",
    "            cur = cur.next\n",
    "        return cur\n",
    "    \n",
    "    \n",
    "    def sort(self):\n",
    "        None\n",
    "        \n",
    "        \n",
    "    def reverse(self):\n",
    "        head = self.head\n",
    "        self.head = self.move(head, self.length-1)\n",
    "        cur = self.head\n",
    "        \n",
    "        for i in reversed(range(self.length-1)):\n",
    "            cur.next = self.move(head, i)\n",
    "            cur = cur.next\n",
    "            \n",
    "        cur.next = None\n",
    "        \n",
    "        \n",
    "    def count(self, target):\n",
    "        cur = self.head\n",
    "        cnt = 0;\n",
    "        while cur != None:\n",
    "            if cur.data == target:\n",
    "                cnt += 1\n",
    "            cur = cur.next\n",
    "        return cnt\n",
    "               \n",
    "                \n",
    "        "
   ]
  },
  {
   "cell_type": "code",
   "execution_count": 27,
   "id": "480f063c",
   "metadata": {},
   "outputs": [
    {
     "name": "stdout",
     "output_type": "stream",
     "text": [
      "0\n"
     ]
    }
   ],
   "source": [
    "x = LinkedList(0)\n",
    "x.print_all()"
   ]
  },
  {
   "cell_type": "code",
   "execution_count": 28,
   "id": "62182d6e",
   "metadata": {},
   "outputs": [
    {
     "name": "stdout",
     "output_type": "stream",
     "text": [
      "0\n",
      "2\n",
      "4\n",
      "6\n"
     ]
    },
    {
     "data": {
      "text/plain": [
       "4"
      ]
     },
     "execution_count": 28,
     "metadata": {},
     "output_type": "execute_result"
    }
   ],
   "source": [
    "x.append(2)\n",
    "x.append(4)\n",
    "x.append(6)\n",
    "x.print_all()\n",
    "x.length"
   ]
  },
  {
   "cell_type": "code",
   "execution_count": 29,
   "id": "44ebdc17",
   "metadata": {},
   "outputs": [
    {
     "name": "stdout",
     "output_type": "stream",
     "text": [
      "0\n",
      "2\n",
      "4\n"
     ]
    },
    {
     "data": {
      "text/plain": [
       "3"
      ]
     },
     "execution_count": 29,
     "metadata": {},
     "output_type": "execute_result"
    }
   ],
   "source": [
    "x.pop()\n",
    "x.print_all()\n",
    "x.length"
   ]
  },
  {
   "cell_type": "code",
   "execution_count": 30,
   "id": "5a0402d6",
   "metadata": {},
   "outputs": [
    {
     "name": "stdout",
     "output_type": "stream",
     "text": [
      "0\n",
      "2\n",
      "4\n"
     ]
    }
   ],
   "source": [
    "print(x.get_data(0))\n",
    "print(x.get_data(1))\n",
    "print(x.get_data(2))"
   ]
  },
  {
   "cell_type": "code",
   "execution_count": 31,
   "id": "d44f169b",
   "metadata": {},
   "outputs": [
    {
     "name": "stdout",
     "output_type": "stream",
     "text": [
      "0\n",
      "1\n",
      "2\n"
     ]
    }
   ],
   "source": [
    "print(x.get_index(0))\n",
    "print(x.get_index(2))\n",
    "print(x.get_index(4))"
   ]
  },
  {
   "cell_type": "code",
   "execution_count": 32,
   "id": "96db5b41",
   "metadata": {},
   "outputs": [
    {
     "name": "stdout",
     "output_type": "stream",
     "text": [
      "-1\n",
      "0\n",
      "1\n",
      "2\n",
      "3\n",
      "4\n",
      "5\n"
     ]
    }
   ],
   "source": [
    "x.insert(3, 5)\n",
    "x.insert(2, 3)\n",
    "x.insert(1, 1)\n",
    "x.insert(0, -1)\n",
    "x.print_all()"
   ]
  },
  {
   "cell_type": "code",
   "execution_count": 33,
   "id": "bc3c1449",
   "metadata": {},
   "outputs": [
    {
     "name": "stdout",
     "output_type": "stream",
     "text": [
      "0\n",
      "2\n",
      "4\n"
     ]
    }
   ],
   "source": [
    "x.delete(6)\n",
    "x.delete(4)\n",
    "x.delete(2)\n",
    "x.delete(0)\n",
    "x.print_all()"
   ]
  },
  {
   "cell_type": "code",
   "execution_count": 34,
   "id": "a972f40a",
   "metadata": {},
   "outputs": [
    {
     "name": "stdout",
     "output_type": "stream",
     "text": [
      "0\n",
      "2\n",
      "4\n"
     ]
    }
   ],
   "source": [
    "x.print(0)\n",
    "x.print(1)\n",
    "x.print(2)"
   ]
  },
  {
   "cell_type": "code",
   "execution_count": 35,
   "id": "ac855eec",
   "metadata": {},
   "outputs": [
    {
     "name": "stdout",
     "output_type": "stream",
     "text": [
      "0\n",
      "2\n",
      "a\n",
      "4\n",
      "\n",
      "0\n",
      "2\n",
      "4\n"
     ]
    }
   ],
   "source": [
    "x.insert(2, 'a')\n",
    "x.print_all()\n",
    "print()\n",
    "x.remove('a')\n",
    "x.print_all()"
   ]
  },
  {
   "cell_type": "code",
   "execution_count": 36,
   "id": "5ddc20dc",
   "metadata": {},
   "outputs": [
    {
     "name": "stdout",
     "output_type": "stream",
     "text": [
      "0\n",
      "2\n",
      "4\n",
      "4\n",
      "2\n",
      "0\n"
     ]
    }
   ],
   "source": [
    "x.print_all()\n",
    "x.reverse()\n",
    "x.print_all()"
   ]
  },
  {
   "cell_type": "code",
   "execution_count": 37,
   "id": "c638780b",
   "metadata": {},
   "outputs": [
    {
     "name": "stdout",
     "output_type": "stream",
     "text": [
      "4\n",
      "-1\n",
      "2\n",
      "7\n",
      "0\n",
      "(3, 7)\n",
      "(1, -1)\n"
     ]
    }
   ],
   "source": [
    "x.insert(2, 7)\n",
    "x.insert(1, -1)\n",
    "x.print_all()\n",
    "print(x.max())\n",
    "print(x.min())"
   ]
  },
  {
   "cell_type": "code",
   "execution_count": 38,
   "id": "b633b216",
   "metadata": {},
   "outputs": [
    {
     "name": "stdout",
     "output_type": "stream",
     "text": [
      "0\n"
     ]
    }
   ],
   "source": [
    "x.clear()\n",
    "x.print_all()"
   ]
  },
  {
   "cell_type": "code",
   "execution_count": 39,
   "id": "c93c81d5",
   "metadata": {},
   "outputs": [
    {
     "name": "stdout",
     "output_type": "stream",
     "text": [
      "0\n",
      "3\n",
      "6\n",
      "9\n",
      "12\n"
     ]
    }
   ],
   "source": [
    "x.range(5, 3)\n",
    "x.print_all()"
   ]
  },
  {
   "cell_type": "code",
   "execution_count": 40,
   "id": "73b4ada5",
   "metadata": {},
   "outputs": [
    {
     "name": "stdout",
     "output_type": "stream",
     "text": [
      "3\n",
      "6\n",
      "9\n",
      "12\n",
      "15\n",
      "\n",
      "-3\n",
      "0\n",
      "3\n",
      "6\n",
      "9\n",
      "\n",
      "0\n",
      "9\n",
      "18\n",
      "27\n",
      "36\n",
      "\n",
      "0\n",
      "-3\n",
      "-6\n",
      "-9\n",
      "-12\n"
     ]
    }
   ],
   "source": [
    "x1 = x + 3\n",
    "x1.print_all()\n",
    "print()\n",
    "\n",
    "x2 = x - 3\n",
    "x2.print_all()\n",
    "print()\n",
    "\n",
    "x3 = x * 3\n",
    "x3.print_all()\n",
    "print()\n",
    "\n",
    "x4 = -x\n",
    "x4.print_all()"
   ]
  },
  {
   "cell_type": "code",
   "execution_count": 41,
   "id": "caa1c108",
   "metadata": {},
   "outputs": [
    {
     "name": "stdout",
     "output_type": "stream",
     "text": [
      "0\n",
      "3\n",
      "6\n",
      "9\n",
      "12\n",
      "\n"
     ]
    },
    {
     "data": {
      "text/plain": [
       "5"
      ]
     },
     "execution_count": 41,
     "metadata": {},
     "output_type": "execute_result"
    }
   ],
   "source": [
    "x.print_all()\n",
    "print()\n",
    "\n",
    "x.length"
   ]
  },
  {
   "cell_type": "code",
   "execution_count": 42,
   "id": "bbb683b7",
   "metadata": {},
   "outputs": [
    {
     "data": {
      "text/plain": [
       "3"
      ]
     },
     "execution_count": 42,
     "metadata": {},
     "output_type": "execute_result"
    }
   ],
   "source": [
    "x.append(7)\n",
    "x.append(7)\n",
    "x.append(7)\n",
    "x.count(7)"
   ]
  },
  {
   "cell_type": "code",
   "execution_count": 45,
   "id": "cea0b6ed",
   "metadata": {},
   "outputs": [
    {
     "name": "stdout",
     "output_type": "stream",
     "text": [
      "0\n",
      "1\n",
      "2\n",
      "3\n",
      "4\n",
      "0\n",
      "3\n",
      "6\n",
      "9\n",
      "12\n",
      "\n",
      "0\n",
      "1\n",
      "2\n",
      "3\n",
      "4\n"
     ]
    }
   ],
   "source": [
    "x = LinkedList(0)\n",
    "y = LinkedList(0)\n",
    "x.range(5, 1)\n",
    "y.range(5, 3)\n",
    "\n",
    "z = x.list_sum(y)\n",
    "z.print_all()\n",
    "print()\n",
    "\n",
    "x.print_all()"
   ]
  },
  {
   "cell_type": "code",
   "execution_count": null,
   "id": "accaf57b",
   "metadata": {},
   "outputs": [],
   "source": []
  }
 ],
 "metadata": {
  "kernelspec": {
   "display_name": "Python 3 (ipykernel)",
   "language": "python",
   "name": "python3"
  },
  "language_info": {
   "codemirror_mode": {
    "name": "ipython",
    "version": 3
   },
   "file_extension": ".py",
   "mimetype": "text/x-python",
   "name": "python",
   "nbconvert_exporter": "python",
   "pygments_lexer": "ipython3",
   "version": "3.11.4"
  }
 },
 "nbformat": 4,
 "nbformat_minor": 5
}
